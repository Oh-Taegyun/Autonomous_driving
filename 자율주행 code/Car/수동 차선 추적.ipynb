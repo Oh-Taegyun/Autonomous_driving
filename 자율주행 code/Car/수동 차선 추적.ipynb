{
 "cells": [
  {
   "cell_type": "markdown",
   "metadata": {},
   "source": [
    "# 고전적인 기법으로 추출하는 차선 추적"
   ]
  },
  {
   "cell_type": "code",
   "execution_count": null,
   "metadata": {},
   "outputs": [],
   "source": [
    "import cv2\n",
    "import numpy as np\n",
    "import logging\n",
    "import math\n",
    "import datetime\n",
    "import sys\n",
    "\n",
    "_SHOW_IMAGE = False  # 이미지를 표시할지 여부를 설정하는 플래그"
   ]
  },
  {
   "cell_type": "code",
   "execution_count": null,
   "metadata": {},
   "outputs": [],
   "source": [
    "def detect_lane(frame):\n",
    "    # Lane Detection 단계에서 사용하는 코드 \n",
    "    # 입력은 비디오 프레임, 출력은 감지된 차선 라인의 정보과 시각화된 이미지이다. \n",
    "    \n",
    "    logging.debug('detecting lane lines...')\n",
    "\n",
    "    # 1. 엣지 감지 수행\n",
    "    edges = detect_edges(frame)\n",
    "    show_image('edges', edges)\n",
    "\n",
    "    # 2. 관심 영역(ROI)을 설정하여 도로 부분만 유지\n",
    "    cropped_edges = region_of_interest(edges)\n",
    "    show_image('edges cropped', cropped_edges)\n",
    "\n",
    "    # 3. 허프 변환을 통해 선분 감지\n",
    "    line_segments = detect_line_segments(cropped_edges)\n",
    "    line_segment_image = display_lines(frame, line_segments)\n",
    "    show_image(\"line segments\", line_segment_image)\n",
    "\n",
    "    # 4. 감지된 선분을 평균화하여 차선 생성\n",
    "    lane_lines = average_slope_intercept(frame, line_segments)\n",
    "    lane_lines_image = display_lines(frame, lane_lines)\n",
    "    show_image(\"lane lines\", lane_lines_image)\n",
    "\n",
    "    return lane_lines, lane_lines_image\n"
   ]
  },
  {
   "cell_type": "code",
   "execution_count": null,
   "metadata": {},
   "outputs": [],
   "source": [
    "class HandCodedLaneFollower(object):\n",
    "\n",
    "    def __init__(self, car=None):\n",
    "        # 클래스 생성자: 차선 추적기를 초기화\n",
    "        # car: 연결된 자동차 객체. 없으면 None으로 설정\n",
    "        logging.info('Creating a HandCodedLaneFollower...')\n",
    "        self.car = car  # 자동차 객체 (None일 수 있음)\n",
    "        self.curr_steering_angle = 90  # 초기 조향각은 90도로 설정 (직진)\n",
    "\n",
    "    def follow_lane(self, frame):\n",
    "        # 차선 추적의 주요 함수. 입력된 프레임에서 차선을 탐지하고 조향각을 조정.\n",
    "        show_image(\"orig\", frame)  # 원본 이미지를 보여줌 (디버깅용)\n",
    "\n",
    "        # 차선 감지 수행\n",
    "        lane_lines, frame = detect_lane(frame)\n",
    "\n",
    "        # 감지된 차선을 기반으로 조향 수행\n",
    "        final_frame = self.steer(frame, lane_lines)\n",
    "        return final_frame\n",
    "\n",
    "    def steer(self, frame, lane_lines):\n",
    "        logging.debug('steering...')\n",
    "        if len(lane_lines) == 0:\n",
    "            # 차선을 감지하지 못한 경우\n",
    "            logging.error('No lane lines detected, nothing to do.')\n",
    "            return frame  # 조향 없이 원본 프레임 반환\n",
    "\n",
    "        # 차선 데이터를 사용하여 새 조향각 계산\n",
    "        new_steering_angle = compute_steering_angle(frame, lane_lines)\n",
    "\n",
    "        # 현재 조향각을 새로 계산된 조향각으로 안정화\n",
    "        self.curr_steering_angle = stabilize_steering_angle(\n",
    "            self.curr_steering_angle, new_steering_angle, len(lane_lines)\n",
    "        )\n",
    "\n",
    "        # 자동차 객체가 있을 경우 조향각 설정\n",
    "        if self.car is not None:\n",
    "            self.car.front_wheels.turn(self.curr_steering_angle)\n",
    "\n",
    "        # 계산된 조향각을 시각적으로 보여주는 이미지 생성\n",
    "        curr_heading_image = display_heading_line(frame, self.curr_steering_angle)\n",
    "        show_image(\"heading\", curr_heading_image)  # 조향각이 표시된 이미지를 보여줌\n",
    "        return curr_heading_image\n"
   ]
  }
 ],
 "metadata": {
  "language_info": {
   "name": "python"
  }
 },
 "nbformat": 4,
 "nbformat_minor": 2
}
