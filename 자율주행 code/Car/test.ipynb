{
 "cells": [
  {
   "cell_type": "code",
   "execution_count": null,
   "metadata": {},
   "outputs": [],
   "source": [
    "import cv2  # OpenCV 라이브러리 임포트\n",
    "\n",
    "# 카메라 객체 생성 (기본 카메라 장치 사용)\n",
    "camera = cv2.VideoCapture(0)\n",
    "\n",
    "# 카메라 해상도 설정\n",
    "camera.set(3, 640)  # 프레임 너비 설정 (640픽셀)\n",
    "camera.set(4, 480)  # 프레임 높이 설정 (480픽셀)\n",
    "\n",
    "# 카메라가 열려 있는 동안 반복\n",
    "while camera.isOpened():\n",
    "    # 카메라로부터 프레임 읽기\n",
    "    _, image = camera.read()  # `image` 변수에 프레임 저장\n",
    "    \n",
    "    # 원본 이미지 표시\n",
    "    cv2.imshow('Original', image)\n",
    "\n",
    "    # 흑백 이미지로 변환\n",
    "    b_w_image = cv2.cvtColor(image, cv2.COLOR_BGR2GRAY)\n",
    "    # 변환된 흑백 이미지 표시\n",
    "    cv2.imshow('B/W', b_w_image)\n",
    "\n",
    "    # 'q' 키를 누르면 루프를 종료하고 프로그램을 종료\n",
    "    if cv2.waitKey(1) & 0xFF == ord('q'):\n",
    "        break\n",
    "        \n",
    "# 모든 창 닫기 및 리소스 해제\n",
    "cv2.destroyAllWindows()"
   ]
  },
  {
   "cell_type": "code",
   "execution_count": null,
   "metadata": {},
   "outputs": [],
   "source": []
  }
 ],
 "metadata": {
  "language_info": {
   "name": "python"
  }
 },
 "nbformat": 4,
 "nbformat_minor": 2
}
