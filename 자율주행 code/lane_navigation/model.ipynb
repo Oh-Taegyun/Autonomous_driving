{
 "cells": [
  {
   "cell_type": "code",
   "execution_count": 26,
   "metadata": {},
   "outputs": [],
   "source": [
    "# python standard libraries\n",
    "import os\n",
    "import random\n",
    "import fnmatch\n",
    "import datetime\n",
    "import pickle\n",
    "import numpy as np\n",
    "import pandas as pd\n",
    "# sklearn\n",
    "from sklearn.utils import shuffle\n",
    "from sklearn.model_selection import train_test_split\n",
    "\n",
    "# imaging\n",
    "import cv2\n",
    "from imgaug import augmenters as img_aug\n",
    "import matplotlib.pyplot as plt\n",
    "import matplotlib.image as mpimg\n",
    "%matplotlib inline\n",
    "from PIL import Image\n",
    "\n",
    "import torch\n",
    "from torch.utils.data import Dataset, DataLoader\n",
    "import random\n",
    "import numpy as np\n",
    "import cv2\n",
    "import torch.nn as nn\n",
    "import torch.optim as optim\n"
   ]
  },
  {
   "cell_type": "code",
   "execution_count": 27,
   "metadata": {},
   "outputs": [
    {
     "name": "stdout",
     "output_type": "stream",
     "text": [
      "지금 사용하는 device : cuda:0\n"
     ]
    }
   ],
   "source": [
    "device = torch.device(\"cuda:0\" if torch.cuda.is_available() else \"cpu\") #  torch.cuda.is_available() GPU를 사용가능하면 True, 아니라면 False를 리턴\n",
    "print(\"지금 사용하는 device :\",device)"
   ]
  },
  {
   "cell_type": "code",
   "execution_count": 28,
   "metadata": {},
   "outputs": [],
   "source": [
    "# 이미지 데이터가 저장된 디렉터리 경로 설정\n",
    "data_dir = './data/images'\n",
    "\n",
    "# 해당 디렉터리 내의 모든 파일 이름을 리스트로 가져옴\n",
    "file_list = os.listdir(data_dir)\n",
    "\n",
    "# 이미지 경로와 조향 각도(steering angle)를 저장할 리스트 초기화\n",
    "image_paths = []\n",
    "steering_angles = []\n",
    "\n",
    "# .png 파일 패턴을 찾기 위한 설정\n",
    "pattern = \"*.png\"\n",
    "\n",
    "# 파일 리스트를 순회하며 각 파일에 대해 작업 수행\n",
    "for filename in file_list:\n",
    "    # 파일 이름이 .png로 끝나는지 확인\n",
    "    if fnmatch.fnmatch(filename, pattern):\n",
    "        # 이미지 경로를 리스트에 추가\n",
    "        image_paths.append(os.path.join(data_dir, filename))\n",
    "        \n",
    "        # 파일 이름에서 조향 각도를 추출하여 리스트에 추가\n",
    "        # 예: \"video01_143_092.png\"의 마지막 3자리 부분을 추출하여 조향 각도로 사용\n",
    "        angle = int(filename[-7:-4])  # 092 부분이 조향 각도를 나타냄 (90은 직진을 의미)\n",
    "        steering_angles.append(angle)\n"
   ]
  },
  {
   "cell_type": "code",
   "execution_count": 29,
   "metadata": {},
   "outputs": [
    {
     "name": "stdout",
     "output_type": "stream",
     "text": [
      "Training data: 175\n",
      "Validation data: 44\n"
     ]
    }
   ],
   "source": [
    "train_data, test_data, train_label, test_label = train_test_split(image_paths, steering_angles, test_size=0.2)\n",
    "print(\"Training data: %d\\nValidation data: %d\" % (len(train_data), len(test_data)))"
   ]
  },
  {
   "cell_type": "code",
   "execution_count": 30,
   "metadata": {},
   "outputs": [],
   "source": [
    "def my_imread(image_path):\n",
    "    image = cv2.imread(image_path)\n",
    "    image = cv2.cvtColor(image, cv2.COLOR_BGR2RGB)\n",
    "    return image\n",
    "\n",
    "def zoom(image):\n",
    "    zoom = img_aug.Affine(scale=(1, 1.3))  # zoom from 100% (no zoom) to 130%\n",
    "    image = zoom.augment_image(image)\n",
    "    return image\n",
    "\n",
    "def pan(image):\n",
    "    # pan left / right / up / down about 10%\n",
    "    pan = img_aug.Affine(translate_percent= {\"x\" : (-0.1, 0.1), \"y\": (-0.1, 0.1)})\n",
    "    image = pan.augment_image(image)\n",
    "    return image\n",
    "\n",
    "def adjust_brightness(image):\n",
    "    # increase or decrease brightness by 30%\n",
    "    brightness = img_aug.Multiply((0.7, 1.3))\n",
    "    image = brightness.augment_image(image)\n",
    "    return image\n",
    "\n",
    "def blur(image):\n",
    "    kernel_size = random.randint(1, 5)  # kernel larger than 5 would make the image way too blurry\n",
    "    image = cv2.blur(image,(kernel_size, kernel_size))\n",
    "   \n",
    "    return image\n",
    "\n",
    "def random_flip(image, steering_angle):\n",
    "    is_flip = random.randint(0, 1)\n",
    "    if is_flip == 1:\n",
    "        # randomly flip horizon\n",
    "        image = cv2.flip(image,1)\n",
    "        steering_angle = 180 - steering_angle\n",
    "   \n",
    "    return image, steering_angle\n",
    "\n",
    "def random_augment(image, steering_angle):\n",
    "    \"\"\"\n",
    "    무작위로 이미지 증강을 수행하여 다양한 주행 환경을 시뮬레이션하는 함수.\n",
    "\n",
    "    매번 호출 시 확률적으로 여러 증강 기법(팬, 확대/축소, 블러, 밝기 조정 등)을 적용.\n",
    "    이미지가 좌우로 반전될 경우 조향각도 반전.\n",
    "\n",
    "    매개변수:\n",
    "    - image: 입력 이미지\n",
    "    - steering_angle: 원본 이미지에 대한 조향각\n",
    "\n",
    "    반환값:\n",
    "    - 증강된 이미지와 조정된 조향각\n",
    "    \"\"\"\n",
    "    if np.random.rand() < 0.5:  # 50% 확률로 팬(pan) 효과 적용\n",
    "        image = pan(image)\n",
    "    if np.random.rand() < 0.5:  # 50% 확률로 확대/축소(zoom) 효과 적용\n",
    "        image = zoom(image)\n",
    "    #if np.random.rand() < 0.5:  # 50% 확률로 블러(blur) 효과 적용\n",
    "    #    image = blur(image)\n",
    "    if np.random.rand() < 0.5:  # 50% 확률로 밝기 조정 효과 적용\n",
    "         image = adjust_brightness(image)\n",
    "\n",
    "    # 50% 확률로 이미지 좌우 반전 및 조향각 조정\n",
    "    image, steering_angle = random_flip(image, steering_angle)\n",
    "    \n",
    "    return image, steering_angle\n",
    "\n",
    "def img_preprocess(image):\n",
    "    \"\"\"\n",
    "    입력 이미지를 전처리하여 Nvidia 모델에 적합한 형식으로 변환.\n",
    "\n",
    "    매개변수:\n",
    "    - image: 입력 이미지 (RGB 형식)\n",
    "\n",
    "    반환값:\n",
    "    - 전처리된 이미지\n",
    "    \"\"\"\n",
    "    height, _, _ = image.shape\n",
    "    # 1. 이미지 상단 절반 제거 (차선 추적에 불필요한 정보 제거)\n",
    "    image = image[int(height/2):, :, :]\n",
    "    \n",
    "    # 2. YUV 색 공간으로 변환 (Nvidia 모델에서 권장)\n",
    "    image = cv2.cvtColor(image, cv2.COLOR_RGB2YUV)\n",
    "    \n",
    "    # 3. 가우시안 블러링 (노이즈 감소)\n",
    "    image = cv2.GaussianBlur(image, (3, 3), 0)\n",
    "    \n",
    "    # 4. 이미지 크기 조정 (200x66 크기로 변경)\n",
    "    image = cv2.resize(image, (200, 66))\n",
    "    \n",
    "    # 5. 정규화 (픽셀 값을 [0, 1] 범위로 변환)\n",
    "    image = image / 255.0  # 모델 입력에 적합한 스케일로 변환\n",
    "\n",
    "    return image"
   ]
  },
  {
   "cell_type": "code",
   "execution_count": 31,
   "metadata": {},
   "outputs": [],
   "source": [
    "\n",
    "# 사용자 정의 데이터셋 클래스 정의\n",
    "class CustomImageDataset(Dataset):\n",
    "    def __init__(self, image_paths, steering_angles, is_training=True):\n",
    "        \"\"\"\n",
    "        이미지 데이터와 조향각 데이터를 PyTorch Dataset 형식으로 정의하는 클래스.\n",
    "\n",
    "        매개변수:\n",
    "        - image_paths: 이미지 경로 리스트\n",
    "        - steering_angles: 각 이미지에 해당하는 조향각 리스트\n",
    "        - is_training: 학습 여부 (True: 학습, False: 테스트)\n",
    "        \"\"\"\n",
    "        self.image_paths = image_paths\n",
    "        self.steering_angles = steering_angles\n",
    "        self.is_training = is_training\n",
    "\n",
    "    def __len__(self):\n",
    "        return len(self.image_paths)\n",
    "\n",
    "    def __getitem__(self, idx):\n",
    "        # 이미지와 조향각 불러오기\n",
    "        image_path = self.image_paths[idx]\n",
    "        image = my_imread(image_path)\n",
    "        steering_angle = self.steering_angles[idx]\n",
    "\n",
    "        # 학습 중일 경우 데이터 증강 수행\n",
    "        if self.is_training:\n",
    "            image, steering_angle = random_augment(image, steering_angle)\n",
    "\n",
    "        # 이미지 전처리 수행\n",
    "        image = img_preprocess(image)\n",
    "\n",
    "        # 채널 순서 변경 (H, W, C) -> (C, H, W) for PyTorch\n",
    "        image = np.transpose(image, (2, 0, 1))\n",
    "\n",
    "        return torch.tensor(image, dtype=torch.float32), torch.tensor(steering_angle, dtype=torch.float32)"
   ]
  },
  {
   "cell_type": "code",
   "execution_count": 32,
   "metadata": {},
   "outputs": [],
   "source": [
    "# 학습 데이터셋 및 데이터로더 생성\n",
    "train_dataset = CustomImageDataset(train_data, train_label, is_training=True)\n",
    "train_loader = DataLoader(train_dataset, batch_size=1, shuffle=True)\n",
    "\n",
    "# 학습 데이터셋 및 데이터로더 생성\n",
    "test_dataset = CustomImageDataset(test_data, test_label, is_training=False)\n",
    "test_loader = DataLoader(test_dataset, batch_size=1, shuffle=True)"
   ]
  },
  {
   "cell_type": "code",
   "execution_count": 33,
   "metadata": {},
   "outputs": [],
   "source": [
    "a, b = next(iter(train_loader))"
   ]
  },
  {
   "cell_type": "code",
   "execution_count": 34,
   "metadata": {},
   "outputs": [
    {
     "data": {
      "text/plain": [
       "torch.Size([3, 66, 200])"
      ]
     },
     "execution_count": 34,
     "metadata": {},
     "output_type": "execute_result"
    }
   ],
   "source": [
    "a[0].shape"
   ]
  },
  {
   "cell_type": "code",
   "execution_count": 35,
   "metadata": {},
   "outputs": [
    {
     "data": {
      "text/plain": [
       "tensor([107.])"
      ]
     },
     "execution_count": 35,
     "metadata": {},
     "output_type": "execute_result"
    }
   ],
   "source": [
    "b"
   ]
  },
  {
   "cell_type": "code",
   "execution_count": 36,
   "metadata": {},
   "outputs": [
    {
     "ename": "IndexError",
     "evalue": "index 1 is out of bounds for dimension 0 with size 1",
     "output_type": "error",
     "traceback": [
      "\u001b[1;31m---------------------------------------------------------------------------\u001b[0m",
      "\u001b[1;31mIndexError\u001b[0m                                Traceback (most recent call last)",
      "Cell \u001b[1;32mIn[36], line 2\u001b[0m\n\u001b[0;32m      1\u001b[0m \u001b[38;5;66;03m# 첫 번째 채널만 선택하여 그레이스케일로 표시\u001b[39;00m\n\u001b[1;32m----> 2\u001b[0m plt\u001b[38;5;241m.\u001b[39mimshow(\u001b[43ma\u001b[49m\u001b[43m[\u001b[49m\u001b[38;5;241;43m1\u001b[39;49m\u001b[43m]\u001b[49m[\u001b[38;5;241m0\u001b[39m, :, :], cmap\u001b[38;5;241m=\u001b[39m\u001b[38;5;124m'\u001b[39m\u001b[38;5;124mviridis\u001b[39m\u001b[38;5;124m'\u001b[39m)\n\u001b[0;32m      3\u001b[0m plt\u001b[38;5;241m.\u001b[39mcolorbar()\n\u001b[0;32m      4\u001b[0m plt\u001b[38;5;241m.\u001b[39mtitle(\u001b[38;5;124m\"\u001b[39m\u001b[38;5;124mSingle Channel as Grayscale\u001b[39m\u001b[38;5;124m\"\u001b[39m)\n",
      "\u001b[1;31mIndexError\u001b[0m: index 1 is out of bounds for dimension 0 with size 1"
     ]
    }
   ],
   "source": [
    "# 첫 번째 채널만 선택하여 그레이스케일로 표시\n",
    "plt.imshow(a[1][0, :, :], cmap='viridis')\n",
    "plt.colorbar()\n",
    "plt.title(\"Single Channel as Grayscale\")\n",
    "plt.axis('off')\n",
    "plt.show()\n"
   ]
  },
  {
   "cell_type": "code",
   "execution_count": null,
   "metadata": {},
   "outputs": [],
   "source": [
    "\n",
    "# # 배치 단위로 데이터 로딩 및 시각화 예시\n",
    "# X_train, y_train = image_paths, steering_angles  # 학습용 이미지 경로 및 조향각 리스트\n",
    "# X_valid, y_valid = image_paths, steering_angles  # 검증용 이미지 경로 및 조향각 리스트\n",
    "\n",
    "# # 배치 단위로 데이터 로딩 예시\n",
    "# for batch_idx, (images, angles) in enumerate(test_loader):\n",
    "#     # 시각화에 사용할 행(row)과 열(column)의 수 설정\n",
    "#     ncol = 2  # 열 개수 (학습 데이터, 검증 데이터)\n",
    "#     nrow = min(2, len(images))  # 행 개수 (표시할 배치의 크기)\n",
    "\n",
    "#     # 학습 데이터 배치 생성 (데이터 증강 포함)\n",
    "#     X_train_batch, y_train_batch = images, angles\n",
    "\n",
    "#     # 플롯 생성\n",
    "#     fig, axes = plt.subplots(nrow, ncol, figsize=(15, 6))\n",
    "#     fig.tight_layout()  # 플롯 간 간격 조정\n",
    "\n",
    "#     # 배치 크기만큼 반복하여 각 이미지를 시각화\n",
    "#     for i in range(nrow):\n",
    "#         # 학습 데이터 시각화 (첫 번째 열)\n",
    "#         axes[i][0].imshow(X_train_batch[i].permute(1, 2, 0).numpy())\n",
    "#         axes[i][0].set_title(f\"Training, angle={y_train_batch[i]:.2f}\")  # 학습 데이터 조향각 표시\n",
    "#         axes[i][0].axis('off')  # 축 숨김\n",
    "\n",
    "#     # 플롯 표시\n",
    "#     plt.show()\n"
   ]
  },
  {
   "cell_type": "code",
   "execution_count": 37,
   "metadata": {},
   "outputs": [],
   "source": [
    "\n",
    "class NvidiaModel(nn.Module):\n",
    "    def __init__(self):\n",
    "        super(NvidiaModel, self).__init__()\n",
    "        \n",
    "        # Convolutional Layers\n",
    "        self.conv_layers = nn.Sequential(\n",
    "            nn.Conv2d(3, 24, kernel_size=5, stride=2),  # input channels = 3 (RGB)\n",
    "            nn.ELU(),\n",
    "            nn.Conv2d(24, 36, kernel_size=5, stride=2),\n",
    "            nn.ELU(),\n",
    "            nn.Conv2d(36, 48, kernel_size=5, stride=2),\n",
    "            nn.ELU(),\n",
    "            nn.Conv2d(48, 64, kernel_size=3),\n",
    "            nn.ELU(),\n",
    "            nn.Dropout(0.2),  # Dropout layer for robustness\n",
    "            nn.Conv2d(64, 64, kernel_size=3),\n",
    "            nn.ELU()\n",
    "        )\n",
    "        \n",
    "        # Fully Connected Layers\n",
    "        self.fc_layers = nn.Sequential(\n",
    "            nn.Flatten(),\n",
    "            nn.Dropout(0.2),  # Dropout layer for robustness\n",
    "            nn.Linear(64 * 1 * 18, 100),  # flattened output size of conv layers\n",
    "            nn.ELU(),\n",
    "            nn.Linear(100, 50),\n",
    "            nn.ELU(),\n",
    "            nn.Linear(50, 10),\n",
    "            nn.ELU(),\n",
    "            nn.Linear(10, 1)  # Output layer for the steering angle\n",
    "        )\n",
    "\n",
    "    def forward(self, x):\n",
    "        x = self.conv_layers(x)\n",
    "        x = self.fc_layers(x)\n",
    "        return x\n",
    "\n",
    "# Model, loss function, and optimizer\n",
    "model = NvidiaModel().to(device)\n",
    "\n",
    "# Mean Squared Error loss, as this is a regression problem\n",
    "criterion = nn.MSELoss()\n",
    "\n",
    "# Adam optimizer with learning rate 1e-3\n",
    "optimizer = optim.Adam(model.parameters(), lr=1e-3)"
   ]
  },
  {
   "cell_type": "code",
   "execution_count": 38,
   "metadata": {},
   "outputs": [
    {
     "name": "stderr",
     "output_type": "stream",
     "text": [
      "  0%|          | 0/300 [00:00<?, ?it/s]d:\\Program_Files\\anaconda3\\envs\\Deep_Learning\\Lib\\site-packages\\torch\\nn\\modules\\loss.py:538: UserWarning: Using a target size (torch.Size([1])) that is different to the input size (torch.Size([])). This will likely lead to incorrect results due to broadcasting. Please ensure they have the same size.\n",
      "  return F.mse_loss(input, target, reduction=self.reduction)\n",
      "  1%|          | 3/300 [00:05<09:46,  1.97s/it]"
     ]
    },
    {
     "name": "stdout",
     "output_type": "stream",
     "text": [
      "Iteration: 500, Loss: 299.6730041503906, Accuracy: 1238.421142578125%\n"
     ]
    },
    {
     "name": "stderr",
     "output_type": "stream",
     "text": [
      "  2%|▏         | 5/300 [00:09<09:40,  1.97s/it]"
     ]
    },
    {
     "name": "stdout",
     "output_type": "stream",
     "text": [
      "Iteration: 1000, Loss: 639.4818725585938, Accuracy: 3405.029541015625%\n"
     ]
    },
    {
     "name": "stderr",
     "output_type": "stream",
     "text": [
      "  3%|▎         | 8/300 [00:15<09:37,  1.98s/it]"
     ]
    },
    {
     "name": "stdout",
     "output_type": "stream",
     "text": [
      "Iteration: 1500, Loss: 1547.7769775390625, Accuracy: 1098.3536376953125%\n"
     ]
    },
    {
     "name": "stderr",
     "output_type": "stream",
     "text": [
      "  4%|▎         | 11/300 [00:21<09:17,  1.93s/it]"
     ]
    },
    {
     "name": "stdout",
     "output_type": "stream",
     "text": [
      "Iteration: 2000, Loss: 543.7490844726562, Accuracy: 184.4945831298828%\n"
     ]
    },
    {
     "name": "stderr",
     "output_type": "stream",
     "text": [
      "  5%|▍         | 14/300 [00:27<09:19,  1.96s/it]"
     ]
    },
    {
     "name": "stdout",
     "output_type": "stream",
     "text": [
      "Iteration: 2500, Loss: 534.3197021484375, Accuracy: 222.2201690673828%\n"
     ]
    },
    {
     "name": "stderr",
     "output_type": "stream",
     "text": [
      "  6%|▌         | 17/300 [00:33<09:16,  1.97s/it]"
     ]
    },
    {
     "name": "stdout",
     "output_type": "stream",
     "text": [
      "Iteration: 3000, Loss: 800.2218627929688, Accuracy: 94.34765625%\n"
     ]
    },
    {
     "name": "stderr",
     "output_type": "stream",
     "text": [
      "  7%|▋         | 20/300 [00:39<09:12,  1.97s/it]"
     ]
    },
    {
     "name": "stdout",
     "output_type": "stream",
     "text": [
      "Iteration: 3500, Loss: 91.18609619140625, Accuracy: 192.4013214111328%\n"
     ]
    },
    {
     "name": "stderr",
     "output_type": "stream",
     "text": [
      "  8%|▊         | 23/300 [00:45<08:58,  1.95s/it]"
     ]
    },
    {
     "name": "stdout",
     "output_type": "stream",
     "text": [
      "Iteration: 4000, Loss: 209.3462677001953, Accuracy: 0.014267299324274063%\n"
     ]
    },
    {
     "name": "stderr",
     "output_type": "stream",
     "text": [
      "  8%|▊         | 25/300 [00:49<08:55,  1.95s/it]"
     ]
    },
    {
     "name": "stdout",
     "output_type": "stream",
     "text": [
      "Iteration: 4500, Loss: 872.2105102539062, Accuracy: 12.332221984863281%\n"
     ]
    },
    {
     "name": "stderr",
     "output_type": "stream",
     "text": [
      "  9%|▉         | 28/300 [00:55<08:57,  1.97s/it]"
     ]
    },
    {
     "name": "stdout",
     "output_type": "stream",
     "text": [
      "Iteration: 5000, Loss: 2.0047976970672607, Accuracy: 529.7973022460938%\n"
     ]
    },
    {
     "name": "stderr",
     "output_type": "stream",
     "text": [
      " 10%|█         | 31/300 [01:00<08:51,  1.97s/it]"
     ]
    },
    {
     "name": "stdout",
     "output_type": "stream",
     "text": [
      "Iteration: 5500, Loss: 33.699180603027344, Accuracy: 58.91843795776367%\n"
     ]
    },
    {
     "name": "stderr",
     "output_type": "stream",
     "text": [
      " 11%|█▏        | 34/300 [01:06<08:45,  1.98s/it]"
     ]
    },
    {
     "name": "stdout",
     "output_type": "stream",
     "text": [
      "Iteration: 6000, Loss: 563.7994384765625, Accuracy: 187.978515625%\n"
     ]
    },
    {
     "name": "stderr",
     "output_type": "stream",
     "text": [
      " 12%|█▏        | 37/300 [01:12<08:28,  1.93s/it]"
     ]
    },
    {
     "name": "stdout",
     "output_type": "stream",
     "text": [
      "Iteration: 6500, Loss: 225.4751739501953, Accuracy: 235.68592834472656%\n"
     ]
    },
    {
     "name": "stderr",
     "output_type": "stream",
     "text": [
      " 13%|█▎        | 40/300 [01:18<08:27,  1.95s/it]"
     ]
    },
    {
     "name": "stdout",
     "output_type": "stream",
     "text": [
      "Iteration: 7000, Loss: 228.4728546142578, Accuracy: 609.3999633789062%\n"
     ]
    },
    {
     "name": "stderr",
     "output_type": "stream",
     "text": [
      " 14%|█▍        | 43/300 [01:24<08:12,  1.92s/it]"
     ]
    },
    {
     "name": "stdout",
     "output_type": "stream",
     "text": [
      "Iteration: 7500, Loss: 1120.3543701171875, Accuracy: 153.4752197265625%\n"
     ]
    },
    {
     "name": "stderr",
     "output_type": "stream",
     "text": [
      " 15%|█▌        | 45/300 [01:28<08:09,  1.92s/it]"
     ]
    },
    {
     "name": "stdout",
     "output_type": "stream",
     "text": [
      "Iteration: 8000, Loss: 490.9322204589844, Accuracy: 206.0525360107422%\n"
     ]
    },
    {
     "name": "stderr",
     "output_type": "stream",
     "text": [
      " 16%|█▌        | 48/300 [01:33<08:11,  1.95s/it]"
     ]
    },
    {
     "name": "stdout",
     "output_type": "stream",
     "text": [
      "Iteration: 8500, Loss: 9.239889144897461, Accuracy: 303.94403076171875%\n"
     ]
    },
    {
     "name": "stderr",
     "output_type": "stream",
     "text": [
      " 17%|█▋        | 51/300 [01:39<08:00,  1.93s/it]"
     ]
    },
    {
     "name": "stdout",
     "output_type": "stream",
     "text": [
      "Iteration: 9000, Loss: 60.497520446777344, Accuracy: 25.23139762878418%\n"
     ]
    },
    {
     "name": "stderr",
     "output_type": "stream",
     "text": [
      " 18%|█▊        | 54/300 [01:45<08:02,  1.96s/it]"
     ]
    },
    {
     "name": "stdout",
     "output_type": "stream",
     "text": [
      "Iteration: 9500, Loss: 1534.5003662109375, Accuracy: 363.8869323730469%\n"
     ]
    },
    {
     "name": "stderr",
     "output_type": "stream",
     "text": [
      " 19%|█▉        | 57/300 [01:51<07:45,  1.92s/it]"
     ]
    },
    {
     "name": "stdout",
     "output_type": "stream",
     "text": [
      "Iteration: 10000, Loss: 18.72289276123047, Accuracy: 302.50311279296875%\n"
     ]
    },
    {
     "name": "stderr",
     "output_type": "stream",
     "text": [
      " 20%|██        | 60/300 [01:57<07:48,  1.95s/it]"
     ]
    },
    {
     "name": "stdout",
     "output_type": "stream",
     "text": [
      "Iteration: 10500, Loss: 307.9595031738281, Accuracy: 102.11170959472656%\n"
     ]
    },
    {
     "name": "stderr",
     "output_type": "stream",
     "text": [
      " 21%|██        | 63/300 [02:02<07:32,  1.91s/it]"
     ]
    },
    {
     "name": "stdout",
     "output_type": "stream",
     "text": [
      "Iteration: 11000, Loss: 300.1346435546875, Accuracy: 852.3279418945312%\n"
     ]
    },
    {
     "name": "stderr",
     "output_type": "stream",
     "text": [
      " 22%|██▏       | 65/300 [02:06<07:30,  1.92s/it]"
     ]
    },
    {
     "name": "stdout",
     "output_type": "stream",
     "text": [
      "Iteration: 11500, Loss: 173.05941772460938, Accuracy: 106.20026397705078%\n"
     ]
    },
    {
     "name": "stderr",
     "output_type": "stream",
     "text": [
      " 23%|██▎       | 68/300 [02:12<07:29,  1.94s/it]"
     ]
    },
    {
     "name": "stdout",
     "output_type": "stream",
     "text": [
      "Iteration: 12000, Loss: 580.8330688476562, Accuracy: 1326.95703125%\n"
     ]
    },
    {
     "name": "stderr",
     "output_type": "stream",
     "text": [
      " 24%|██▎       | 71/300 [02:18<07:16,  1.91s/it]"
     ]
    },
    {
     "name": "stdout",
     "output_type": "stream",
     "text": [
      "Iteration: 12500, Loss: 235.8391571044922, Accuracy: 900.9569702148438%\n"
     ]
    },
    {
     "name": "stderr",
     "output_type": "stream",
     "text": [
      " 25%|██▍       | 74/300 [02:24<07:17,  1.93s/it]"
     ]
    },
    {
     "name": "stdout",
     "output_type": "stream",
     "text": [
      "Iteration: 13000, Loss: 277.3833923339844, Accuracy: 22.010509490966797%\n"
     ]
    },
    {
     "name": "stderr",
     "output_type": "stream",
     "text": [
      " 26%|██▌       | 77/300 [02:29<07:04,  1.90s/it]"
     ]
    },
    {
     "name": "stdout",
     "output_type": "stream",
     "text": [
      "Iteration: 13500, Loss: 0.019691795110702515, Accuracy: 743.3531494140625%\n"
     ]
    },
    {
     "name": "stderr",
     "output_type": "stream",
     "text": [
      " 27%|██▋       | 80/300 [02:35<07:07,  1.94s/it]"
     ]
    },
    {
     "name": "stdout",
     "output_type": "stream",
     "text": [
      "Iteration: 14000, Loss: 16.486244201660156, Accuracy: 1330.6854248046875%\n"
     ]
    },
    {
     "name": "stderr",
     "output_type": "stream",
     "text": [
      " 28%|██▊       | 83/300 [02:41<06:54,  1.91s/it]"
     ]
    },
    {
     "name": "stdout",
     "output_type": "stream",
     "text": [
      "Iteration: 14500, Loss: 862.8453369140625, Accuracy: 149.65660095214844%\n"
     ]
    },
    {
     "name": "stderr",
     "output_type": "stream",
     "text": [
      " 28%|██▊       | 85/300 [02:45<06:50,  1.91s/it]"
     ]
    },
    {
     "name": "stdout",
     "output_type": "stream",
     "text": [
      "Iteration: 15000, Loss: 1453.79833984375, Accuracy: 708.8621826171875%\n"
     ]
    },
    {
     "name": "stderr",
     "output_type": "stream",
     "text": [
      " 29%|██▉       | 88/300 [02:51<06:51,  1.94s/it]"
     ]
    },
    {
     "name": "stdout",
     "output_type": "stream",
     "text": [
      "Iteration: 15500, Loss: 68.350830078125, Accuracy: 216.50125122070312%\n"
     ]
    },
    {
     "name": "stderr",
     "output_type": "stream",
     "text": [
      " 30%|███       | 91/300 [02:56<06:43,  1.93s/it]"
     ]
    },
    {
     "name": "stdout",
     "output_type": "stream",
     "text": [
      "Iteration: 16000, Loss: 119.1237564086914, Accuracy: 1471.0167236328125%\n"
     ]
    },
    {
     "name": "stderr",
     "output_type": "stream",
     "text": [
      " 31%|███▏      | 94/300 [03:02<06:41,  1.95s/it]"
     ]
    },
    {
     "name": "stdout",
     "output_type": "stream",
     "text": [
      "Iteration: 16500, Loss: 95.92121887207031, Accuracy: 735.0650634765625%\n"
     ]
    },
    {
     "name": "stderr",
     "output_type": "stream",
     "text": [
      " 32%|███▏      | 97/300 [03:08<06:27,  1.91s/it]"
     ]
    },
    {
     "name": "stdout",
     "output_type": "stream",
     "text": [
      "Iteration: 17000, Loss: 1036.8245849609375, Accuracy: 557.7679443359375%\n"
     ]
    },
    {
     "name": "stderr",
     "output_type": "stream",
     "text": [
      " 33%|███▎      | 100/300 [03:14<06:28,  1.94s/it]"
     ]
    },
    {
     "name": "stdout",
     "output_type": "stream",
     "text": [
      "Iteration: 17500, Loss: 283.56903076171875, Accuracy: 977.8875732421875%\n"
     ]
    },
    {
     "name": "stderr",
     "output_type": "stream",
     "text": [
      " 34%|███▍      | 103/300 [03:20<06:17,  1.91s/it]"
     ]
    },
    {
     "name": "stdout",
     "output_type": "stream",
     "text": [
      "Iteration: 18000, Loss: 12.304801940917969, Accuracy: 153.91580200195312%\n"
     ]
    },
    {
     "name": "stderr",
     "output_type": "stream",
     "text": [
      " 35%|███▌      | 105/300 [03:23<06:12,  1.91s/it]"
     ]
    },
    {
     "name": "stdout",
     "output_type": "stream",
     "text": [
      "Iteration: 18500, Loss: 173.84133911132812, Accuracy: 135.05389404296875%\n"
     ]
    },
    {
     "name": "stderr",
     "output_type": "stream",
     "text": [
      " 36%|███▌      | 108/300 [03:29<06:14,  1.95s/it]"
     ]
    },
    {
     "name": "stdout",
     "output_type": "stream",
     "text": [
      "Iteration: 19000, Loss: 23.484535217285156, Accuracy: 537.82861328125%\n"
     ]
    },
    {
     "name": "stderr",
     "output_type": "stream",
     "text": [
      " 37%|███▋      | 111/300 [03:35<06:02,  1.92s/it]"
     ]
    },
    {
     "name": "stdout",
     "output_type": "stream",
     "text": [
      "Iteration: 19500, Loss: 78.83538055419922, Accuracy: 657.2127685546875%\n"
     ]
    },
    {
     "name": "stderr",
     "output_type": "stream",
     "text": [
      " 38%|███▊      | 114/300 [03:41<06:01,  1.94s/it]"
     ]
    },
    {
     "name": "stdout",
     "output_type": "stream",
     "text": [
      "Iteration: 20000, Loss: 70.01966094970703, Accuracy: 21.654525756835938%\n"
     ]
    },
    {
     "name": "stderr",
     "output_type": "stream",
     "text": [
      " 39%|███▉      | 117/300 [03:46<05:48,  1.90s/it]"
     ]
    },
    {
     "name": "stdout",
     "output_type": "stream",
     "text": [
      "Iteration: 20500, Loss: 226.62362670898438, Accuracy: 32.51988983154297%\n"
     ]
    },
    {
     "name": "stderr",
     "output_type": "stream",
     "text": [
      " 40%|████      | 120/300 [03:52<05:47,  1.93s/it]"
     ]
    },
    {
     "name": "stdout",
     "output_type": "stream",
     "text": [
      "Iteration: 21000, Loss: 1313.497802734375, Accuracy: 1255.5352783203125%\n"
     ]
    },
    {
     "name": "stderr",
     "output_type": "stream",
     "text": [
      " 41%|████      | 123/300 [03:58<05:35,  1.90s/it]"
     ]
    },
    {
     "name": "stdout",
     "output_type": "stream",
     "text": [
      "Iteration: 21500, Loss: 400.1080322265625, Accuracy: 757.162109375%\n"
     ]
    },
    {
     "name": "stderr",
     "output_type": "stream",
     "text": [
      " 42%|████▏     | 125/300 [04:02<05:36,  1.92s/it]"
     ]
    },
    {
     "name": "stdout",
     "output_type": "stream",
     "text": [
      "Iteration: 22000, Loss: 0.7829587459564209, Accuracy: 303.0766296386719%\n"
     ]
    },
    {
     "name": "stderr",
     "output_type": "stream",
     "text": [
      " 43%|████▎     | 128/300 [04:08<05:32,  1.94s/it]"
     ]
    },
    {
     "name": "stdout",
     "output_type": "stream",
     "text": [
      "Iteration: 22500, Loss: 143.1085662841797, Accuracy: 1780.1192626953125%\n"
     ]
    },
    {
     "name": "stderr",
     "output_type": "stream",
     "text": [
      " 44%|████▎     | 131/300 [04:13<05:24,  1.92s/it]"
     ]
    },
    {
     "name": "stdout",
     "output_type": "stream",
     "text": [
      "Iteration: 23000, Loss: 566.4684448242188, Accuracy: 368.30157470703125%\n"
     ]
    },
    {
     "name": "stderr",
     "output_type": "stream",
     "text": [
      " 45%|████▍     | 134/300 [04:19<05:22,  1.94s/it]"
     ]
    },
    {
     "name": "stdout",
     "output_type": "stream",
     "text": [
      "Iteration: 23500, Loss: 720.6700439453125, Accuracy: 401.2589111328125%\n"
     ]
    },
    {
     "name": "stderr",
     "output_type": "stream",
     "text": [
      " 46%|████▌     | 137/300 [04:25<05:11,  1.91s/it]"
     ]
    },
    {
     "name": "stdout",
     "output_type": "stream",
     "text": [
      "Iteration: 24000, Loss: 199.65919494628906, Accuracy: 0.5645045042037964%\n"
     ]
    },
    {
     "name": "stderr",
     "output_type": "stream",
     "text": [
      " 47%|████▋     | 140/300 [04:31<05:12,  1.95s/it]"
     ]
    },
    {
     "name": "stdout",
     "output_type": "stream",
     "text": [
      "Iteration: 24500, Loss: 30.360122680664062, Accuracy: 1112.8560791015625%\n"
     ]
    },
    {
     "name": "stderr",
     "output_type": "stream",
     "text": [
      " 48%|████▊     | 143/300 [04:37<05:03,  1.93s/it]"
     ]
    },
    {
     "name": "stdout",
     "output_type": "stream",
     "text": [
      "Iteration: 25000, Loss: 832.5491333007812, Accuracy: 198.2335662841797%\n"
     ]
    },
    {
     "name": "stderr",
     "output_type": "stream",
     "text": [
      " 48%|████▊     | 145/300 [04:41<04:57,  1.92s/it]"
     ]
    },
    {
     "name": "stdout",
     "output_type": "stream",
     "text": [
      "Iteration: 25500, Loss: 776.9186401367188, Accuracy: 461.7675476074219%\n"
     ]
    },
    {
     "name": "stderr",
     "output_type": "stream",
     "text": [
      " 49%|████▉     | 148/300 [04:47<05:03,  2.00s/it]"
     ]
    },
    {
     "name": "stdout",
     "output_type": "stream",
     "text": [
      "Iteration: 26000, Loss: 1350.2760009765625, Accuracy: 1662.5621337890625%\n"
     ]
    },
    {
     "name": "stderr",
     "output_type": "stream",
     "text": [
      " 50%|█████     | 151/300 [04:52<04:47,  1.93s/it]"
     ]
    },
    {
     "name": "stdout",
     "output_type": "stream",
     "text": [
      "Iteration: 26500, Loss: 448.6822509765625, Accuracy: 1593.0257568359375%\n"
     ]
    },
    {
     "name": "stderr",
     "output_type": "stream",
     "text": [
      " 51%|█████▏    | 154/300 [04:58<04:45,  1.95s/it]"
     ]
    },
    {
     "name": "stdout",
     "output_type": "stream",
     "text": [
      "Iteration: 27000, Loss: 240.64915466308594, Accuracy: 461.6255798339844%\n"
     ]
    },
    {
     "name": "stderr",
     "output_type": "stream",
     "text": [
      " 52%|█████▏    | 157/300 [05:04<04:35,  1.93s/it]"
     ]
    },
    {
     "name": "stdout",
     "output_type": "stream",
     "text": [
      "Iteration: 27500, Loss: 52.57146072387695, Accuracy: 15.03366470336914%\n"
     ]
    },
    {
     "name": "stderr",
     "output_type": "stream",
     "text": [
      " 53%|█████▎    | 160/300 [05:10<04:32,  1.95s/it]"
     ]
    },
    {
     "name": "stdout",
     "output_type": "stream",
     "text": [
      "Iteration: 28000, Loss: 5.446058750152588, Accuracy: 743.754638671875%\n"
     ]
    },
    {
     "name": "stderr",
     "output_type": "stream",
     "text": [
      " 54%|█████▍    | 163/300 [05:16<04:23,  1.92s/it]"
     ]
    },
    {
     "name": "stdout",
     "output_type": "stream",
     "text": [
      "Iteration: 28500, Loss: 114.89111328125, Accuracy: 1566.5179443359375%\n"
     ]
    },
    {
     "name": "stderr",
     "output_type": "stream",
     "text": [
      " 55%|█████▌    | 165/300 [05:19<04:18,  1.91s/it]"
     ]
    },
    {
     "name": "stdout",
     "output_type": "stream",
     "text": [
      "Iteration: 29000, Loss: 417.3515625, Accuracy: 27.330514907836914%\n"
     ]
    },
    {
     "name": "stderr",
     "output_type": "stream",
     "text": [
      " 56%|█████▌    | 168/300 [05:25<04:16,  1.94s/it]"
     ]
    },
    {
     "name": "stdout",
     "output_type": "stream",
     "text": [
      "Iteration: 29500, Loss: 75.07550048828125, Accuracy: 219.44473266601562%\n"
     ]
    },
    {
     "name": "stderr",
     "output_type": "stream",
     "text": [
      " 57%|█████▋    | 171/300 [05:31<04:06,  1.91s/it]"
     ]
    },
    {
     "name": "stdout",
     "output_type": "stream",
     "text": [
      "Iteration: 30000, Loss: 572.1864013671875, Accuracy: 398.15948486328125%\n"
     ]
    },
    {
     "name": "stderr",
     "output_type": "stream",
     "text": [
      " 58%|█████▊    | 174/300 [05:37<04:06,  1.96s/it]"
     ]
    },
    {
     "name": "stdout",
     "output_type": "stream",
     "text": [
      "Iteration: 30500, Loss: 990.2721557617188, Accuracy: 198.00611877441406%\n"
     ]
    },
    {
     "name": "stderr",
     "output_type": "stream",
     "text": [
      " 59%|█████▉    | 177/300 [05:43<03:55,  1.91s/it]"
     ]
    },
    {
     "name": "stdout",
     "output_type": "stream",
     "text": [
      "Iteration: 31000, Loss: 1.2020537853240967, Accuracy: 858.4011840820312%\n"
     ]
    },
    {
     "name": "stderr",
     "output_type": "stream",
     "text": [
      " 60%|██████    | 180/300 [05:48<03:52,  1.94s/it]"
     ]
    },
    {
     "name": "stdout",
     "output_type": "stream",
     "text": [
      "Iteration: 31500, Loss: 892.4381103515625, Accuracy: 221.04278564453125%\n"
     ]
    },
    {
     "name": "stderr",
     "output_type": "stream",
     "text": [
      " 61%|██████    | 183/300 [05:54<03:44,  1.92s/it]"
     ]
    },
    {
     "name": "stdout",
     "output_type": "stream",
     "text": [
      "Iteration: 32000, Loss: 144.39633178710938, Accuracy: 1515.9857177734375%\n"
     ]
    },
    {
     "name": "stderr",
     "output_type": "stream",
     "text": [
      " 62%|██████▏   | 185/300 [05:58<03:39,  1.91s/it]"
     ]
    },
    {
     "name": "stdout",
     "output_type": "stream",
     "text": [
      "Iteration: 32500, Loss: 242.81063842773438, Accuracy: 322.22100830078125%\n"
     ]
    },
    {
     "name": "stderr",
     "output_type": "stream",
     "text": [
      " 63%|██████▎   | 188/300 [06:04<03:36,  1.93s/it]"
     ]
    },
    {
     "name": "stdout",
     "output_type": "stream",
     "text": [
      "Iteration: 33000, Loss: 402.6481018066406, Accuracy: 293.61065673828125%\n"
     ]
    },
    {
     "name": "stderr",
     "output_type": "stream",
     "text": [
      " 64%|██████▎   | 191/300 [06:10<03:29,  1.93s/it]"
     ]
    },
    {
     "name": "stdout",
     "output_type": "stream",
     "text": [
      "Iteration: 33500, Loss: 1140.6048583984375, Accuracy: 268.70587158203125%\n"
     ]
    },
    {
     "name": "stderr",
     "output_type": "stream",
     "text": [
      " 65%|██████▍   | 194/300 [06:15<03:27,  1.96s/it]"
     ]
    },
    {
     "name": "stdout",
     "output_type": "stream",
     "text": [
      "Iteration: 34000, Loss: 152.54620361328125, Accuracy: 837.4588012695312%\n"
     ]
    },
    {
     "name": "stderr",
     "output_type": "stream",
     "text": [
      " 66%|██████▌   | 197/300 [06:21<03:18,  1.92s/it]"
     ]
    },
    {
     "name": "stdout",
     "output_type": "stream",
     "text": [
      "Iteration: 34500, Loss: 53.33405303955078, Accuracy: 1929.1900634765625%\n"
     ]
    },
    {
     "name": "stderr",
     "output_type": "stream",
     "text": [
      " 67%|██████▋   | 200/300 [06:27<03:14,  1.94s/it]"
     ]
    },
    {
     "name": "stdout",
     "output_type": "stream",
     "text": [
      "Iteration: 35000, Loss: 951.7713623046875, Accuracy: 177.39535522460938%\n"
     ]
    },
    {
     "name": "stderr",
     "output_type": "stream",
     "text": [
      " 68%|██████▊   | 203/300 [06:33<03:06,  1.92s/it]"
     ]
    },
    {
     "name": "stdout",
     "output_type": "stream",
     "text": [
      "Iteration: 35500, Loss: 79.74545288085938, Accuracy: 117.65906524658203%\n"
     ]
    },
    {
     "name": "stderr",
     "output_type": "stream",
     "text": [
      " 68%|██████▊   | 205/300 [06:37<03:02,  1.92s/it]"
     ]
    },
    {
     "name": "stdout",
     "output_type": "stream",
     "text": [
      "Iteration: 36000, Loss: 167.31553649902344, Accuracy: 1352.9927978515625%\n"
     ]
    },
    {
     "name": "stderr",
     "output_type": "stream",
     "text": [
      " 69%|██████▉   | 208/300 [06:42<02:59,  1.95s/it]"
     ]
    },
    {
     "name": "stdout",
     "output_type": "stream",
     "text": [
      "Iteration: 36500, Loss: 16.213598251342773, Accuracy: 171.2144012451172%\n"
     ]
    },
    {
     "name": "stderr",
     "output_type": "stream",
     "text": [
      " 70%|███████   | 211/300 [06:48<02:50,  1.91s/it]"
     ]
    },
    {
     "name": "stdout",
     "output_type": "stream",
     "text": [
      "Iteration: 37000, Loss: 1374.7783203125, Accuracy: 19.13802146911621%\n"
     ]
    },
    {
     "name": "stderr",
     "output_type": "stream",
     "text": [
      " 71%|███████▏  | 214/300 [06:54<02:47,  1.95s/it]"
     ]
    },
    {
     "name": "stdout",
     "output_type": "stream",
     "text": [
      "Iteration: 37500, Loss: 1062.96142578125, Accuracy: 551.6663818359375%\n"
     ]
    },
    {
     "name": "stderr",
     "output_type": "stream",
     "text": [
      " 72%|███████▏  | 217/300 [07:00<02:38,  1.91s/it]"
     ]
    },
    {
     "name": "stdout",
     "output_type": "stream",
     "text": [
      "Iteration: 38000, Loss: 62.746070861816406, Accuracy: 19.67333221435547%\n"
     ]
    },
    {
     "name": "stderr",
     "output_type": "stream",
     "text": [
      " 73%|███████▎  | 220/300 [07:06<02:36,  1.95s/it]"
     ]
    },
    {
     "name": "stdout",
     "output_type": "stream",
     "text": [
      "Iteration: 38500, Loss: 90.43375396728516, Accuracy: 1347.6666259765625%\n"
     ]
    },
    {
     "name": "stderr",
     "output_type": "stream",
     "text": [
      " 74%|███████▍  | 223/300 [07:12<02:30,  1.95s/it]"
     ]
    },
    {
     "name": "stdout",
     "output_type": "stream",
     "text": [
      "Iteration: 39000, Loss: 1636.435546875, Accuracy: 162.34176635742188%\n"
     ]
    },
    {
     "name": "stderr",
     "output_type": "stream",
     "text": [
      " 75%|███████▌  | 225/300 [07:16<02:27,  1.97s/it]"
     ]
    },
    {
     "name": "stdout",
     "output_type": "stream",
     "text": [
      "Iteration: 39500, Loss: 447.0234375, Accuracy: 693.8223266601562%\n"
     ]
    },
    {
     "name": "stderr",
     "output_type": "stream",
     "text": [
      " 76%|███████▌  | 228/300 [07:21<02:23,  1.99s/it]"
     ]
    },
    {
     "name": "stdout",
     "output_type": "stream",
     "text": [
      "Iteration: 40000, Loss: 201.0548858642578, Accuracy: 250.44332885742188%\n"
     ]
    },
    {
     "name": "stderr",
     "output_type": "stream",
     "text": [
      " 77%|███████▋  | 231/300 [07:27<02:15,  1.96s/it]"
     ]
    },
    {
     "name": "stdout",
     "output_type": "stream",
     "text": [
      "Iteration: 40500, Loss: 2189.731201171875, Accuracy: 963.3178100585938%\n"
     ]
    },
    {
     "name": "stderr",
     "output_type": "stream",
     "text": [
      " 78%|███████▊  | 234/300 [07:33<02:11,  1.99s/it]"
     ]
    },
    {
     "name": "stdout",
     "output_type": "stream",
     "text": [
      "Iteration: 41000, Loss: 17.042259216308594, Accuracy: 177.72943115234375%\n"
     ]
    },
    {
     "name": "stderr",
     "output_type": "stream",
     "text": [
      " 79%|███████▉  | 237/300 [07:39<02:03,  1.97s/it]"
     ]
    },
    {
     "name": "stdout",
     "output_type": "stream",
     "text": [
      "Iteration: 41500, Loss: 210.7148895263672, Accuracy: 1451.7430419921875%\n"
     ]
    },
    {
     "name": "stderr",
     "output_type": "stream",
     "text": [
      " 80%|████████  | 240/300 [07:46<02:03,  2.06s/it]"
     ]
    },
    {
     "name": "stdout",
     "output_type": "stream",
     "text": [
      "Iteration: 42000, Loss: 146.34405517578125, Accuracy: 684.3533935546875%\n"
     ]
    },
    {
     "name": "stderr",
     "output_type": "stream",
     "text": [
      " 81%|████████  | 243/300 [07:51<01:52,  1.97s/it]"
     ]
    },
    {
     "name": "stdout",
     "output_type": "stream",
     "text": [
      "Iteration: 42500, Loss: 360.3896789550781, Accuracy: 51.987388610839844%\n"
     ]
    },
    {
     "name": "stderr",
     "output_type": "stream",
     "text": [
      " 82%|████████▏ | 245/300 [07:55<01:47,  1.95s/it]"
     ]
    },
    {
     "name": "stdout",
     "output_type": "stream",
     "text": [
      "Iteration: 43000, Loss: 289.91485595703125, Accuracy: 98.32994079589844%\n"
     ]
    },
    {
     "name": "stderr",
     "output_type": "stream",
     "text": [
      " 83%|████████▎ | 248/300 [08:01<01:42,  1.98s/it]"
     ]
    },
    {
     "name": "stdout",
     "output_type": "stream",
     "text": [
      "Iteration: 43500, Loss: 1621.51416015625, Accuracy: 355.6463928222656%\n"
     ]
    },
    {
     "name": "stderr",
     "output_type": "stream",
     "text": [
      " 84%|████████▎ | 251/300 [08:07<01:34,  1.93s/it]"
     ]
    },
    {
     "name": "stdout",
     "output_type": "stream",
     "text": [
      "Iteration: 44000, Loss: 567.3146362304688, Accuracy: 160.7764129638672%\n"
     ]
    },
    {
     "name": "stderr",
     "output_type": "stream",
     "text": [
      " 85%|████████▍ | 254/300 [08:13<01:30,  1.97s/it]"
     ]
    },
    {
     "name": "stdout",
     "output_type": "stream",
     "text": [
      "Iteration: 44500, Loss: 287.57427978515625, Accuracy: 235.729736328125%\n"
     ]
    },
    {
     "name": "stderr",
     "output_type": "stream",
     "text": [
      " 86%|████████▌ | 257/300 [08:19<01:23,  1.95s/it]"
     ]
    },
    {
     "name": "stdout",
     "output_type": "stream",
     "text": [
      "Iteration: 45000, Loss: 964.9443359375, Accuracy: 1610.00830078125%\n"
     ]
    },
    {
     "name": "stderr",
     "output_type": "stream",
     "text": [
      " 87%|████████▋ | 260/300 [08:25<01:19,  1.98s/it]"
     ]
    },
    {
     "name": "stdout",
     "output_type": "stream",
     "text": [
      "Iteration: 45500, Loss: 292.6706848144531, Accuracy: 19.579774856567383%\n"
     ]
    },
    {
     "name": "stderr",
     "output_type": "stream",
     "text": [
      " 88%|████████▊ | 263/300 [08:30<01:11,  1.94s/it]"
     ]
    },
    {
     "name": "stdout",
     "output_type": "stream",
     "text": [
      "Iteration: 46000, Loss: 194.653076171875, Accuracy: 495.1708068847656%\n"
     ]
    },
    {
     "name": "stderr",
     "output_type": "stream",
     "text": [
      " 88%|████████▊ | 265/300 [08:34<01:08,  1.95s/it]"
     ]
    },
    {
     "name": "stdout",
     "output_type": "stream",
     "text": [
      "Iteration: 46500, Loss: 464.0245666503906, Accuracy: 185.92015075683594%\n"
     ]
    },
    {
     "name": "stderr",
     "output_type": "stream",
     "text": [
      " 89%|████████▉ | 268/300 [08:40<01:03,  1.97s/it]"
     ]
    },
    {
     "name": "stdout",
     "output_type": "stream",
     "text": [
      "Iteration: 47000, Loss: 2.113102436065674, Accuracy: 130.97894287109375%\n"
     ]
    },
    {
     "name": "stderr",
     "output_type": "stream",
     "text": [
      " 90%|█████████ | 271/300 [08:46<00:56,  1.95s/it]"
     ]
    },
    {
     "name": "stdout",
     "output_type": "stream",
     "text": [
      "Iteration: 47500, Loss: 549.00927734375, Accuracy: 78.1609115600586%\n"
     ]
    },
    {
     "name": "stderr",
     "output_type": "stream",
     "text": [
      " 91%|█████████▏| 274/300 [08:52<00:51,  1.97s/it]"
     ]
    },
    {
     "name": "stdout",
     "output_type": "stream",
     "text": [
      "Iteration: 48000, Loss: 1.5775468349456787, Accuracy: 24.540325164794922%\n"
     ]
    },
    {
     "name": "stderr",
     "output_type": "stream",
     "text": [
      " 92%|█████████▏| 277/300 [08:58<00:44,  1.94s/it]"
     ]
    },
    {
     "name": "stdout",
     "output_type": "stream",
     "text": [
      "Iteration: 48500, Loss: 451.15826416015625, Accuracy: 1.1617285013198853%\n"
     ]
    },
    {
     "name": "stderr",
     "output_type": "stream",
     "text": [
      " 93%|█████████▎| 280/300 [09:04<00:39,  1.96s/it]"
     ]
    },
    {
     "name": "stdout",
     "output_type": "stream",
     "text": [
      "Iteration: 49000, Loss: 288.8124694824219, Accuracy: 1340.7257080078125%\n"
     ]
    },
    {
     "name": "stderr",
     "output_type": "stream",
     "text": [
      " 94%|█████████▍| 283/300 [09:10<00:32,  1.93s/it]"
     ]
    },
    {
     "name": "stdout",
     "output_type": "stream",
     "text": [
      "Iteration: 49500, Loss: 514.2474365234375, Accuracy: 262.4067687988281%\n"
     ]
    },
    {
     "name": "stderr",
     "output_type": "stream",
     "text": [
      " 95%|█████████▌| 285/300 [09:14<00:30,  2.01s/it]"
     ]
    },
    {
     "name": "stdout",
     "output_type": "stream",
     "text": [
      "Iteration: 50000, Loss: 235.7049102783203, Accuracy: 1165.0228271484375%\n"
     ]
    },
    {
     "name": "stderr",
     "output_type": "stream",
     "text": [
      " 96%|█████████▌| 288/300 [09:20<00:24,  2.08s/it]"
     ]
    },
    {
     "name": "stdout",
     "output_type": "stream",
     "text": [
      "Iteration: 50500, Loss: 353.07073974609375, Accuracy: 19.430034637451172%\n"
     ]
    },
    {
     "name": "stderr",
     "output_type": "stream",
     "text": [
      " 97%|█████████▋| 291/300 [09:26<00:18,  2.01s/it]"
     ]
    },
    {
     "name": "stdout",
     "output_type": "stream",
     "text": [
      "Iteration: 51000, Loss: 65.35228729248047, Accuracy: 409.25518798828125%\n"
     ]
    },
    {
     "name": "stderr",
     "output_type": "stream",
     "text": [
      " 98%|█████████▊| 294/300 [09:32<00:12,  2.03s/it]"
     ]
    },
    {
     "name": "stdout",
     "output_type": "stream",
     "text": [
      "Iteration: 51500, Loss: 641.1182250976562, Accuracy: 872.056884765625%\n"
     ]
    },
    {
     "name": "stderr",
     "output_type": "stream",
     "text": [
      " 99%|█████████▉| 297/300 [09:38<00:06,  2.09s/it]"
     ]
    },
    {
     "name": "stdout",
     "output_type": "stream",
     "text": [
      "Iteration: 52000, Loss: 725.4459838867188, Accuracy: 99.74640655517578%\n"
     ]
    },
    {
     "name": "stderr",
     "output_type": "stream",
     "text": [
      "100%|██████████| 300/300 [09:45<00:00,  1.95s/it]"
     ]
    },
    {
     "name": "stdout",
     "output_type": "stream",
     "text": [
      "Iteration: 52500, Loss: 2294.491943359375, Accuracy: 88.4798355102539%\n"
     ]
    },
    {
     "name": "stderr",
     "output_type": "stream",
     "text": [
      "\n"
     ]
    }
   ],
   "source": [
    "import tqdm\n",
    "num_epochs = 300\n",
    "count = 0\n",
    "loss_list = []\n",
    "iteration_list = []\n",
    "accuracy_list = []\n",
    "\n",
    "predictions_list = []\n",
    "labels_list = []\n",
    "\n",
    "for epoch in tqdm.tqdm(range(num_epochs)): # 총 5번만 돌린다.\n",
    "    for images, labels in train_loader: # 데이터셋이 60,000개 있으니까 배치로는 100개씩 꺼내 쓰니 1에폭마다 600번 for문이 돌아간다. count는 5 * 600 = 3000이 되어야 함\n",
    "        images, labels = images.to(device), labels.to(device)\n",
    "\n",
    "        outputs = model(images).squeeze() \n",
    "        loss = criterion(outputs,labels) \n",
    "        optimizer.zero_grad() \n",
    "        loss.backward() \n",
    "        optimizer.step() \n",
    "        count += 1\n",
    "\n",
    "        if not(count % 50): # 50의 간격으로 실제 추론해본다\n",
    "            total = 0\n",
    "            correct = 0\n",
    "            for images, labels in test_loader:\n",
    "                images, labels = images.to(device), labels.to(device)\n",
    "                labels_list.append(labels)\n",
    "\n",
    "                outputs = model(images).squeeze() \n",
    "                accuracy = criterion(outputs,labels) \n",
    "\n",
    "            loss_list.append(loss.data) # 지금의 손실 함수를 기록\n",
    "            iteration_list.append(count) # 횟수 기록\n",
    "            accuracy_list.append(accuracy) # 정확도 기록\n",
    "\n",
    "        if not (count % 500): # 매 500회마다 값들 출력\n",
    "            print(\"Iteration: {}, Loss: {}, Accuracy: {}%\".format(count,loss.data,accuracy)) \n",
    "\n",
    "torch.save(model.state_dict(), \"./model_state_dict.pt\") # 모델 저장\n"
   ]
  },
  {
   "cell_type": "code",
   "execution_count": 65,
   "metadata": {},
   "outputs": [
    {
     "name": "stdout",
     "output_type": "stream",
     "text": [
      "tensor([69.], device='cuda:0')\n",
      "tensor(82.5678, device='cuda:0', grad_fn=<SqueezeBackward0>)\n",
      "tensor(184.0857, device='cuda:0', grad_fn=<MseLossBackward0>)\n"
     ]
    }
   ],
   "source": [
    "for images, labels in test_loader:\n",
    "    images, labels = images.to(device), labels.to(device)\n",
    "\n",
    "    outputs = model(images).squeeze() \n",
    "    print(labels)\n",
    "    print(outputs)\n",
    "    loss = criterion(outputs,labels) \n",
    "    print(loss)\n",
    "    break"
   ]
  }
 ],
 "metadata": {
  "kernelspec": {
   "display_name": "Deep_Learning",
   "language": "python",
   "name": "python3"
  },
  "language_info": {
   "codemirror_mode": {
    "name": "ipython",
    "version": 3
   },
   "file_extension": ".py",
   "mimetype": "text/x-python",
   "name": "python",
   "nbconvert_exporter": "python",
   "pygments_lexer": "ipython3",
   "version": "3.12.4"
  }
 },
 "nbformat": 4,
 "nbformat_minor": 2
}
